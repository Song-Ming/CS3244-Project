{
 "cells": [
  {
   "cell_type": "code",
   "execution_count": 1,
   "id": "0d9aca3d-cb6f-4801-9f88-a1c3f43a0e07",
   "metadata": {},
   "outputs": [],
   "source": [
    "import numpy as np\n",
    "import pandas as pd\n",
    "import os\n",
    "import shutil\n",
    "import random\n",
    "import matplotlib.pyplot as plt\n",
    "from PIL import Image\n",
    "import albumentations as A\n",
    "import csv"
   ]
  },
  {
   "cell_type": "code",
   "execution_count": 2,
   "id": "d7069ad6-8762-4612-9cd7-82e1a0a3915d",
   "metadata": {},
   "outputs": [],
   "source": [
    "def set_seed(seed):\n",
    "    random.seed(seed)\n",
    "    np.random.seed(seed)\n",
    "set_seed(600)"
   ]
  },
  {
   "cell_type": "code",
   "execution_count": 3,
   "id": "b0d754c8-3fde-4553-a8b9-d001b8e546af",
   "metadata": {},
   "outputs": [],
   "source": [
    "wd = os.getcwd()\n",
    "img_dir = os.path.join(wd,'images')"
   ]
  },
  {
   "cell_type": "markdown",
   "id": "0de01fe8-f450-4559-9bd3-d760900f1bfa",
   "metadata": {},
   "source": [
    "## Dataset"
   ]
  },
  {
   "cell_type": "code",
   "execution_count": 4,
   "id": "15bcb2ee-cb99-46d3-8d46-2987a5579c1d",
   "metadata": {},
   "outputs": [],
   "source": [
    "class WeedsDataset():\n",
    "    def __init__(self, labels, img_dir):\n",
    "        self.labels = pd.read_csv(labels)\n",
    "        self.img_dir = img_dir\n",
    "        self.classes = self.labels[['Label','Species']].drop_duplicates().sort_values(by = 'Label').reset_index(drop = True)['Species']\n",
    "        self.data = []\n",
    "        self.train = []\n",
    "        self.validation = []\n",
    "        self.test = []\n",
    "        \n",
    "    # Load dataset\n",
    "    def __loaddata__(self):\n",
    "        for row in self.labels.itertuples():\n",
    "            filename = row.Filename\n",
    "            label = row.Label\n",
    "            img_path = os.path.join(self.img_dir, filename)\n",
    "            image = np.asarray(Image.open(img_path))\n",
    "            self.data.append([image,label,filename])\n",
    "        del self.labels\n",
    "        print('Data has been loaded')\n",
    "\n",
    "    # Split into train/valid/test\n",
    "    def __split__(self):\n",
    "        random.shuffle(self.data)\n",
    "        n = len(self.data)\n",
    "        n_train = round(n * 0.8)\n",
    "        n_test = round(n * 0.1)\n",
    "        \n",
    "        self.train = self.data[:n_train]\n",
    "        self.test = self.data[n_train:n_train + n_test]\n",
    "        self.valid = self.data[n_train + n_test:]\n",
    "        del self.data\n",
    "        \n",
    "        print('Data has been split')\n",
    "        print('Size of training set is {}'.format(len(self.train)))\n",
    "        print('Size of validation set is {}'.format(len(self.valid)))\n",
    "        print('Size of test set is {}'.format(len(self.test)))\n",
    "                \n",
    "    # Augment training data\n",
    "    def __augment__(self,frac,transform):\n",
    "        n = round(len(self.train)*frac/2)\n",
    "        sample1 = random.sample(self.train,n)\n",
    "        sample2 = random.sample(self.train,n)\n",
    "        \n",
    "        for i in range(len(sample1)):\n",
    "            transformed = transform(image = sample1[i][0])\n",
    "            self.train.append([transformed['image'],sample1[i][1],sample1[i][2]])   \n",
    "        for i in range(len(sample2)):\n",
    "            transformed = transform(image = sample2[i][0])\n",
    "            self.train.append([transformed['image'],sample2[i][1],sample2[i][2]])   \n",
    "    \n",
    "        print('Data has been augmented')\n",
    "        print('Size of training set is {}'.format(len(self.train)))\n",
    "\n",
    "    # Visualise selected image\n",
    "    def __showitem__(self,set,index):\n",
    "        if set == 'train':\n",
    "            item = self.train[index]\n",
    "        elif set == 'valid':\n",
    "            item = self.valid[index]\n",
    "        elif set == 'test':\n",
    "            item = self.test[index]\n",
    "\n",
    "        plt.imshow(item[0])  \n",
    "        plt.title(item[1]) \n",
    "        plt.show()\n",
    "\n",
    "    # Create folders for saved data, delete existing files\n",
    "    def __folders__(self):\n",
    "        if os.path.exists(os.path.join(wd,'Sets')):\n",
    "            shutil.rmtree(os.path.join(wd,'Sets'))\n",
    "        os.makedirs(os.path.join(wd,'Sets','train'))\n",
    "        os.makedirs(os.path.join(wd,'Sets','valid'))\n",
    "        os.makedirs(os.path.join(wd,'Sets','test'))\n",
    "            \n",
    "        if os.path.exists(os.path.join(wd,'Labels')):\n",
    "            shutil.rmtree(os.path.join(wd,'Labels'))\n",
    "        os.makedirs(os.path.join(wd,'Labels'))\n",
    "\n",
    "    # Save images and labels\n",
    "    def __save__(self):\n",
    "        lst = [['Filename','Label','Class','Original name']]\n",
    "        for i in range(len(self.train)):\n",
    "            image = Image.fromarray(self.train[i][0])\n",
    "            label = self.train[i][1]\n",
    "            filename = self.train[i][2]\n",
    "            path = os.path.join(wd,'Sets','train')\n",
    "            image.save(os.path.join(path,'image_{}.jpg'.format(i)))\n",
    "            lst.append(['image_{}.jpg'.format(i),label,self.classes[label],filename])\n",
    "        with open(os.path.join(wd,'Labels','train.csv'), 'w', newline='') as traincsv:\n",
    "            writer = csv.writer(traincsv)\n",
    "            writer.writerows(lst)\n",
    "\n",
    "        lst = [['Filename','Label','Class','Original name']]\n",
    "        for i in range(len(self.valid)):\n",
    "            image = Image.fromarray(self.valid[i][0])\n",
    "            label = self.valid[i][1]\n",
    "            filename = self.valid[i][2]\n",
    "            path = os.path.join(wd,'Sets','valid')\n",
    "            image.save(os.path.join(path,'image_{}.jpg'.format(i)))\n",
    "            lst.append(['image_{}.jpg'.format(i),label,self.classes[label],filename])\n",
    "        with open(os.path.join(wd,'Labels','valid.csv'), 'w', newline='') as validcsv:\n",
    "            writer = csv.writer(validcsv)\n",
    "            writer.writerows(lst)\n",
    "\n",
    "        lst = [['Filename','Label','Class','Original name']]\n",
    "        for i in range(len(self.test)):\n",
    "            image = Image.fromarray(self.test[i][0])\n",
    "            label = self.test[i][1]\n",
    "            filename = self.test[i][2]\n",
    "            path = os.path.join(wd,'Sets','test')\n",
    "            image.save(os.path.join(path,'image_{}.jpg'.format(i)))\n",
    "            lst.append(['image_{}.jpg'.format(i),label,self.classes[label],filename])\n",
    "        with open(os.path.join(wd,'Labels','test.csv'), 'w', newline='') as testcsv:\n",
    "            writer = csv.writer(testcsv)\n",
    "            writer.writerows(lst)\n",
    "        print('Data has been saved')"
   ]
  },
  {
   "cell_type": "code",
   "execution_count": 5,
   "id": "5f20678a-3a06-4f21-9b5f-6f00f18554a6",
   "metadata": {},
   "outputs": [
    {
     "name": "stdout",
     "output_type": "stream",
     "text": [
      "Data has been loaded\n",
      "Data has been split\n",
      "Size of training set is 14007\n",
      "Size of validation set is 1751\n",
      "Size of test set is 1751\n"
     ]
    }
   ],
   "source": [
    "weeds = WeedsDataset(os.path.join(wd,'Labels.csv'),img_dir)\n",
    "weeds.__loaddata__()\n",
    "weeds.__split__()"
   ]
  },
  {
   "cell_type": "code",
   "execution_count": 6,
   "id": "c4984b71-4b86-4b4e-b2dd-aeb7d3bc0d71",
   "metadata": {},
   "outputs": [
    {
     "name": "stdout",
     "output_type": "stream",
     "text": [
      "Data has been augmented\n",
      "Size of training set is 28015\n"
     ]
    }
   ],
   "source": [
    "transform = A.Compose([A.RandomRotate90(p=1),\n",
    "                       A.HorizontalFlip(p=0.5),\n",
    "                       A.Affine(scale=(0.8,1.2),keep_ratio=True,p=1),\n",
    "                       A.ColorJitter(brightness=0.4,contrast=0.4,saturation=0.2,hue=0,p=1)])\n",
    "weeds.__augment__(1,transform)"
   ]
  },
  {
   "cell_type": "code",
   "execution_count": 7,
   "id": "1b0a697a-f3f9-4deb-9474-ebe115e12ddc",
   "metadata": {},
   "outputs": [
    {
     "name": "stdout",
     "output_type": "stream",
     "text": [
      "Data has been saved\n"
     ]
    }
   ],
   "source": [
    "weeds.__folders__()\n",
    "weeds.__save__()"
   ]
  },
  {
   "cell_type": "code",
   "execution_count": null,
   "id": "6ec26f03-47d6-4fb9-93af-bc3fd8b08831",
   "metadata": {},
   "outputs": [],
   "source": []
  }
 ],
 "metadata": {
  "kernelspec": {
   "display_name": "Python 3 (ipykernel)",
   "language": "python",
   "name": "python3"
  },
  "language_info": {
   "codemirror_mode": {
    "name": "ipython",
    "version": 3
   },
   "file_extension": ".py",
   "mimetype": "text/x-python",
   "name": "python",
   "nbconvert_exporter": "python",
   "pygments_lexer": "ipython3",
   "version": "3.10.6"
  }
 },
 "nbformat": 4,
 "nbformat_minor": 5
}

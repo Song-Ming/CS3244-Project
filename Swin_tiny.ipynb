{
 "cells": [
  {
   "cell_type": "code",
   "execution_count": 1,
   "id": "dacfff18-b56d-47cc-8021-86b8f8941c67",
   "metadata": {
    "editable": true,
    "slideshow": {
     "slide_type": ""
    },
    "tags": []
   },
   "outputs": [],
   "source": [
    "import numpy as np\n",
    "import pandas as pd\n",
    "import matplotlib.pyplot as plt\n",
    "import os\n",
    "import random\n",
    "from datetime import datetime\n",
    "import time\n",
    "import math\n",
    "\n",
    "import torch\n",
    "import torchvision\n",
    "import torch.nn as nn\n",
    "import torchinfo as info\n",
    "from torch.utils.data import Dataset\n",
    "from torchvision.transforms import functional\n",
    "from torchvision.transforms import v2"
   ]
  },
  {
   "cell_type": "code",
   "execution_count": 2,
   "id": "009fad0a-1e6e-492d-894b-d7c60e027a9c",
   "metadata": {},
   "outputs": [],
   "source": [
    "def set_seed(seed):\n",
    "    random.seed(seed)\n",
    "    np.random.seed(seed)\n",
    "    torch.manual_seed(seed)\n",
    "    torch.cuda.manual_seed(seed)\n",
    "set_seed(500)"
   ]
  },
  {
   "cell_type": "code",
   "execution_count": 3,
   "id": "75a30476-d84d-4454-b282-1c16ad69849d",
   "metadata": {},
   "outputs": [],
   "source": [
    "wd = os.getcwd()\n",
    "device = torch.device('cuda')"
   ]
  },
  {
   "cell_type": "markdown",
   "id": "1790544f-fb7d-45d9-86b4-8cb420f61398",
   "metadata": {},
   "source": [
    "## Import Swin_V2 Model"
   ]
  },
  {
   "cell_type": "code",
   "execution_count": 4,
   "id": "80b99fd7-d9af-4281-af60-0f49ed07b9c1",
   "metadata": {},
   "outputs": [],
   "source": [
    "from torchvision.models import swin_v2_t, Swin_V2_T_Weights"
   ]
  },
  {
   "cell_type": "code",
   "execution_count": 5,
   "id": "3a9b2801-09fd-44b7-90ae-aa2b11d48167",
   "metadata": {},
   "outputs": [],
   "source": [
    "swin_model = swin_v2_t(weights=Swin_V2_T_Weights.DEFAULT).to(device)\n",
    "preprocess = Swin_V2_T_Weights.DEFAULT.transforms()"
   ]
  },
  {
   "cell_type": "markdown",
   "id": "ce0dc49c-a3a2-45e5-be4a-492c7f10d45b",
   "metadata": {},
   "source": [
    "## Load and Process Data"
   ]
  },
  {
   "cell_type": "code",
   "execution_count": 6,
   "id": "67bfc83f-fb88-43c1-911c-74905af090bb",
   "metadata": {},
   "outputs": [],
   "source": [
    "# Class representing a set\n",
    "class WeedsDataset(Dataset):\n",
    "    def __init__(self, labels, img_dir, transform = None):\n",
    "        self.labels = pd.read_csv(labels)\n",
    "        self.img_dir = img_dir\n",
    "        self.transform = transform\n",
    "        self.classes = self.labels[['Label','Species']].drop_duplicates().sort_values(by = 'Label').reset_index(drop = True)['Species']\n",
    "        self.data = []\n",
    "        self.train = []\n",
    "        self.validation = []\n",
    "        self.test = []\n",
    "        \n",
    "    # Load entire dataset into memory\n",
    "    def __loaddata__(self):\n",
    "        for row in self.labels.itertuples():\n",
    "            filename = row.Filename\n",
    "            label = torch.tensor(row.Label)\n",
    "            img_path = os.path.join(self.img_dir, filename)\n",
    "            image = self.transform(torchvision.io.read_image(img_path))\n",
    "            self.data.append([image,label])\n",
    "        del self.labels\n",
    "        print('Data has been loaded')\n",
    "\n",
    "    # Split into train/validation/test\n",
    "    def __split__(self):\n",
    "        random.shuffle(self.data)\n",
    "        n = len(self.data)\n",
    "        n_train = round(n * 0.8)\n",
    "        n_valid = round(n * 0.1)\n",
    "        \n",
    "        self.train = self.data[:n_train]\n",
    "        self.valid = self.data[n_train:n_train + n_valid]\n",
    "        self.test = self.data[n_train + n_valid:]\n",
    "        del self.data\n",
    "        \n",
    "        print('Data has been split')\n",
    "        print('Size of training set is {}'.format(len(self.train)))\n",
    "        print('Size of validation set is {}'.format(len(self.valid)))\n",
    "        print('Size of test set is {}'.format(len(self.test)))\n",
    "\n",
    "    # Augment with rotations and gaussian noise\n",
    "    def __augment__(self, frac):\n",
    "        n = round(len(self.train) * frac / 5)\n",
    "        rotate_90 = random.sample(self.train, n)\n",
    "        for row in rotate_90:\n",
    "            image = row[0]\n",
    "            row[0] = functional.rotate(image, 90)\n",
    "        rotate_180 = random.sample(self.train, n)\n",
    "        for row in rotate_180:\n",
    "            image = row[0]\n",
    "            row[0] = functional.rotate(image, 180)\n",
    "        rotate_270 = random.sample(self.train,n)\n",
    "        for row in rotate_270:\n",
    "            image = row[0]\n",
    "            row[0] = functional.rotate(image, 270)\n",
    "        self.train += rotate_90 + rotate_180 + rotate_270\n",
    "        gaussian = v2.GaussianNoise(0,0.08,False)\n",
    "        noise = random.sample(self.train, 2*n)\n",
    "        for row in noise:\n",
    "            image = row[0]\n",
    "            row[0] = gaussian(image)\n",
    "        self.train += noise\n",
    "        \n",
    "        print('Data has been augmented')\n",
    "        print('Size of training set is {}'.format(len(self.train)))\n",
    "        \n",
    "    # Get item from sets, format is (image,label)\n",
    "    def __getitem__(self, idx, split):\n",
    "        if split == 'train':\n",
    "            item = self.train[idx]\n",
    "        elif split == 'valid':\n",
    "            item = self.valid[idx]\n",
    "        elif split == 'test':\n",
    "            item = self.test[idx]\n",
    "        return item[0], item[1]"
   ]
  },
  {
   "cell_type": "code",
   "execution_count": 7,
   "id": "dd999b99-02f7-4403-be23-349c41b8749f",
   "metadata": {},
   "outputs": [
    {
     "name": "stdout",
     "output_type": "stream",
     "text": [
      "Data has been loaded\n",
      "Data has been split\n",
      "Size of training set is 14007\n",
      "Size of validation set is 1751\n",
      "Size of test set is 1751\n",
      "Data has been augmented\n",
      "Size of training set is 21012\n"
     ]
    }
   ],
   "source": [
    "# Run functions to load and process data\n",
    "weeds = WeedsDataset(rf'{wd}\\labels.csv', rf'{wd}\\images', preprocess)\n",
    "weeds.__loaddata__()\n",
    "weeds.__split__()\n",
    "weeds.__augment__(0.5)"
   ]
  },
  {
   "cell_type": "code",
   "execution_count": 8,
   "id": "7f2277d8-dcef-4aa8-974f-c722af4be2cb",
   "metadata": {},
   "outputs": [],
   "source": [
    "# Functions to convert the label back into the class\n",
    "def convert_label(label, dataset):\n",
    "    return dataset.classes[label.item()]\n",
    "\n",
    "def convert_labels(labels,dataset):\n",
    "    lst = []\n",
    "    for label in labels:\n",
    "        data_class = convert_label(label,dataset)\n",
    "        lst.append(data_class)\n",
    "    return lst"
   ]
  },
  {
   "cell_type": "markdown",
   "id": "9bc68ac7-2023-4c93-9d91-f3b3e2f28c06",
   "metadata": {},
   "source": [
    "## Load data"
   ]
  },
  {
   "cell_type": "code",
   "execution_count": 20,
   "id": "449cc24d-c853-480c-bf5d-6897bc849725",
   "metadata": {},
   "outputs": [],
   "source": [
    "# Sends image and label tensors to gpu\n",
    "def get_batch(dataset, current_index, batch_size):\n",
    "    images,labels = zip(*dataset[current_index:current_index+batch_size])\n",
    "    return torch.stack(images, dim = 0).to(device), torch.stack(labels).to(device)"
   ]
  },
  {
   "cell_type": "code",
   "execution_count": 10,
   "id": "34bdffe8-2ea1-4c78-b6ff-0efcbc2d7570",
   "metadata": {},
   "outputs": [],
   "source": [
    "# Check that everything is working properly\n",
    "def matplotlib_imshow(img, one_channel=False):\n",
    "    if one_channel:\n",
    "        img = img.mean(dim=0)\n",
    "    img = img / 2 + 0.5     # unnormalize\n",
    "    npimg = img.numpy()\n",
    "    if one_channel:\n",
    "        plt.imshow(npimg, cmap=\"Greys\")\n",
    "    else:\n",
    "        plt.imshow(np.transpose(npimg, (1, 2, 0)))\n",
    "\n",
    "# Create a grid from the images and show them\n",
    "#images,labels = get_batch(weeds.train, 1000, 32)\n",
    "#img_grid = torchvision.utils.make_grid(images.cpu())\n",
    "#matplotlib_imshow(img_grid, one_channel=True)\n",
    "#print(convert_labels(labels.cpu(),weeds))"
   ]
  },
  {
   "cell_type": "markdown",
   "id": "7181340a-fd33-4dd8-bb35-9fcb14eb2d9d",
   "metadata": {},
   "source": [
    "## Replacing classification head"
   ]
  },
  {
   "cell_type": "code",
   "execution_count": 11,
   "id": "0e8c9987-13f4-46b6-be18-8c514a06434b",
   "metadata": {},
   "outputs": [],
   "source": [
    "for param in swin_model.parameters():\n",
    "    param.requires_grad = False\n",
    "layers = []\n",
    "layers.append(nn.Linear(in_features = 768, out_features = 256, bias = True))\n",
    "layers.append(nn.ReLU())\n",
    "layers.append(nn.Linear(in_features = 256, out_features = 9, bias = True))\n",
    "swin_model.head = nn.Sequential(*layers).to(device)"
   ]
  },
  {
   "cell_type": "code",
   "execution_count": 12,
   "id": "be676306-7099-484a-9c63-7aea30ffd332",
   "metadata": {},
   "outputs": [],
   "source": [
    "#info.summary(swin_model)"
   ]
  },
  {
   "cell_type": "markdown",
   "id": "39a8107d-61d6-4adf-9707-3a1b15906aa8",
   "metadata": {},
   "source": [
    "## Training"
   ]
  },
  {
   "cell_type": "code",
   "execution_count": 13,
   "id": "8f3460b1-2d9e-47dd-b181-664686497054",
   "metadata": {},
   "outputs": [],
   "source": [
    "loss_fn = torch.nn.CrossEntropyLoss().to(device)\n",
    "optimizer = torch.optim.SGD(swin_model.parameters(), lr=0.0012, momentum = 0.9)"
   ]
  },
  {
   "cell_type": "code",
   "execution_count": 14,
   "id": "08c99a1e-ef7c-431e-8bf8-8d74a0423903",
   "metadata": {},
   "outputs": [],
   "source": [
    "def train_one_epoch(batch_size):\n",
    "    batches = math.floor(len(weeds.train)/batch_size)\n",
    "    current_index = 0\n",
    "    running_loss = 0\n",
    "    random.shuffle(weeds.train)\n",
    "\n",
    "    for i in range(batches):\n",
    "        inputs,labels = get_batch(weeds.train, current_index, batch_size)\n",
    "        current_index += batch_size\n",
    "        optimizer.zero_grad(set_to_none=True)\n",
    "        outputs = swin_model(inputs)\n",
    "        loss = loss_fn(outputs, labels)\n",
    "        loss.backward()\n",
    "        optimizer.step()\n",
    "        running_loss += loss.cpu().item()\n",
    "\n",
    "    remainder = len(weeds.train)%batch_size\n",
    "    if remainder != 0:\n",
    "        inputs,labels = get_batch(weeds.train, current_index, batch_size)\n",
    "        optimizer.zero_grad()\n",
    "        outputs = swin_model(inputs)\n",
    "        loss = loss_fn(outputs, labels)\n",
    "        loss.backward()\n",
    "        optimizer.step()\n",
    "        running_loss += loss.cpu().item()\n",
    "        batches += 1\n",
    "    \n",
    "    return running_loss/batches"
   ]
  },
  {
   "cell_type": "code",
   "execution_count": 15,
   "id": "5e299c12-151b-457f-92cc-db73288bbc34",
   "metadata": {},
   "outputs": [],
   "source": [
    "def validate(batch_size):\n",
    "    batches = math.floor(len(weeds.valid)/batch_size)\n",
    "    current_index = 0\n",
    "    running_loss = 0\n",
    "    \n",
    "    for i in range(batches):\n",
    "        inputs,labels = get_batch(weeds.valid, current_index, batch_size)\n",
    "        current_index += batch_size\n",
    "        output = swin_model(inputs)\n",
    "        running_loss += loss_fn(output, labels).cpu().item()\n",
    "\n",
    "    remainder = len(weeds.valid)%batch_size\n",
    "    if remainder != 0:\n",
    "        inputs,labels = get_batch(weeds.valid, current_index, batch_size)\n",
    "        output = swin_model(inputs)\n",
    "        running_loss += loss_fn(output, labels).cpu().item()\n",
    "        batches += 1\n",
    "    \n",
    "    return running_loss/batches"
   ]
  },
  {
   "cell_type": "code",
   "execution_count": 16,
   "id": "68045c7b-12be-4fa7-ac5a-e5e1e317affd",
   "metadata": {},
   "outputs": [],
   "source": [
    "def train(epochs, batch_size, epoch_counter, folder_name, save):\n",
    "    timestamp = datetime.now().strftime('%Y%m%d_%H%M%S')\n",
    "    current_vloss = 0\n",
    "    start = time.perf_counter()\n",
    "    rounds = 1\n",
    "    \n",
    "    if not os.path.exists('{}\\{}'.format(wd,folder_name)):\n",
    "        os.makedirs('{}\\{}'.format(wd,folder_name))\n",
    "        \n",
    "    for epoch in range(epochs):\n",
    "        print('EPOCH {}:'.format(epoch_counter + 1))\n",
    "        swin_model.train()\n",
    "        avg_loss = train_one_epoch(batch_size)\n",
    "        \n",
    "        swin_model.eval()\n",
    "        with torch.no_grad():\n",
    "            current_vloss = validate(batch_size)\n",
    "\n",
    "        # Only save last {save} rounds\n",
    "        if rounds + save >= epochs:\n",
    "            model_path = '{}\\model_{}_{}'.format(folder_name, timestamp, epoch_counter + 1)\n",
    "            torch.save(swin_model.state_dict(), model_path)\n",
    "        rounds += 1\n",
    "\n",
    "        print('LOSS train {} valid {}'.format(avg_loss, current_vloss))\n",
    "        epoch_counter += 1\n",
    "\n",
    "    end = time.perf_counter()\n",
    "    print('Average time taken per epoch is {}s'.format((end - start)/epochs))\n",
    "    return"
   ]
  },
  {
   "cell_type": "code",
   "execution_count": 19,
   "id": "1bde653c-6548-4fd2-96fa-6e763ae7d631",
   "metadata": {},
   "outputs": [
    {
     "name": "stdout",
     "output_type": "stream",
     "text": [
      "EPOCH 1:\n",
      "LOSS train 1.3283949804419293 valid 0.9263197030458186\n",
      "EPOCH 2:\n",
      "LOSS train 0.8506016942922406 valid 0.6950112423963017\n",
      "EPOCH 3:\n",
      "LOSS train 0.6869847155098677 valid 0.5846914268202252\n",
      "EPOCH 4:\n",
      "LOSS train 0.5984274149648934 valid 0.5169751710361905\n",
      "EPOCH 5:\n",
      "LOSS train 0.5416168422568722 valid 0.4809159982121653\n",
      "EPOCH 6:\n",
      "LOSS train 0.5024519414771481 valid 0.43552979040477013\n",
      "EPOCH 7:\n",
      "LOSS train 0.4674713804503801 valid 0.4108854437039958\n",
      "EPOCH 8:\n",
      "LOSS train 0.4395132194009926 valid 0.3928733350088199\n",
      "EPOCH 9:\n",
      "LOSS train 0.4189249133412459 valid 0.378219054494467\n",
      "EPOCH 10:\n",
      "LOSS train 0.4046234784740733 valid 0.3646091506299045\n",
      "EPOCH 11:\n",
      "LOSS train 0.383369430687252 valid 0.3567312653693888\n",
      "EPOCH 12:\n",
      "LOSS train 0.3714211008327874 valid 0.34069733663151663\n",
      "EPOCH 13:\n",
      "LOSS train 0.36054087286890263 valid 0.33041859459545875\n",
      "EPOCH 14:\n",
      "LOSS train 0.3486629986600185 valid 0.3200023152037627\n",
      "EPOCH 15:\n",
      "LOSS train 0.336873929885674 valid 0.3180439403384096\n",
      "EPOCH 16:\n",
      "LOSS train 0.32659712465670215 valid 0.30691787996329367\n",
      "EPOCH 17:\n",
      "LOSS train 0.3169217689622043 valid 0.2992411304472221\n",
      "EPOCH 18:\n",
      "LOSS train 0.3132263530674003 valid 0.30363165649274987\n",
      "EPOCH 19:\n",
      "LOSS train 0.3012645676236538 valid 0.2873450551285512\n",
      "EPOCH 20:\n",
      "LOSS train 0.2976495310876545 valid 0.2976810690532956\n",
      "EPOCH 21:\n",
      "LOSS train 0.29530958381797806 valid 0.28173863574759\n",
      "EPOCH 22:\n",
      "LOSS train 0.28679082346217366 valid 0.28206345384630066\n",
      "EPOCH 23:\n",
      "LOSS train 0.28383342719984167 valid 0.284954812998573\n",
      "EPOCH 24:\n",
      "LOSS train 0.2757559590696439 valid 0.2825774182824211\n",
      "EPOCH 25:\n",
      "LOSS train 0.2653300329830471 valid 0.2898753487194578\n",
      "EPOCH 26:\n",
      "LOSS train 0.25914174589082917 valid 0.2649529563107838\n",
      "EPOCH 27:\n",
      "LOSS train 0.25640169506330673 valid 0.2741746158701264\n",
      "EPOCH 28:\n",
      "LOSS train 0.2511967682498651 valid 0.2629114509586038\n",
      "EPOCH 29:\n",
      "LOSS train 0.24383277173492518 valid 0.2625561692338023\n",
      "EPOCH 30:\n",
      "LOSS train 0.24535120717490938 valid 0.2678241805276937\n",
      "EPOCH 31:\n",
      "LOSS train 0.23953105611925737 valid 0.26620927251254517\n",
      "EPOCH 32:\n",
      "LOSS train 0.23484679433625555 valid 0.2727034976188507\n",
      "EPOCH 33:\n",
      "LOSS train 0.23416900013588954 valid 0.2549649869971391\n",
      "EPOCH 34:\n",
      "LOSS train 0.23034920105423043 valid 0.2649324914026592\n",
      "EPOCH 35:\n",
      "LOSS train 0.22208884865434889 valid 0.2566264734810425\n",
      "EPOCH 36:\n",
      "LOSS train 0.22170092806998737 valid 0.25076819935606587\n",
      "EPOCH 37:\n",
      "LOSS train 0.2194075879691757 valid 0.24969586433791038\n",
      "EPOCH 38:\n",
      "LOSS train 0.2147573441390895 valid 0.24436144506196594\n",
      "EPOCH 39:\n",
      "LOSS train 0.2122952447509539 valid 0.24274711253949338\n",
      "EPOCH 40:\n",
      "LOSS train 0.21054217605154757 valid 0.2444468144935349\n",
      "EPOCH 41:\n",
      "LOSS train 0.20245196734004237 valid 0.24433317742983085\n",
      "EPOCH 42:\n",
      "LOSS train 0.20258292408036224 valid 0.2552163464586354\n",
      "EPOCH 43:\n",
      "LOSS train 0.2017339225106313 valid 0.24838821220004725\n",
      "EPOCH 44:\n",
      "LOSS train 0.1948385423673162 valid 0.23752673954651174\n",
      "EPOCH 45:\n",
      "LOSS train 0.19850327051521197 valid 0.2443995209177956\n",
      "EPOCH 46:\n",
      "LOSS train 0.19862425429945604 valid 0.240055294888508\n",
      "EPOCH 47:\n",
      "LOSS train 0.1842344180899816 valid 0.23403675638190988\n",
      "EPOCH 48:\n",
      "LOSS train 0.18939283168974227 valid 0.24298209133040574\n",
      "EPOCH 49:\n",
      "LOSS train 0.1827988636606946 valid 0.23415006276789224\n",
      "EPOCH 50:\n",
      "LOSS train 0.17941748962301823 valid 0.23349432124652797\n",
      "EPOCH 51:\n",
      "LOSS train 0.17916368557728668 valid 0.24159094131836253\n",
      "EPOCH 52:\n",
      "LOSS train 0.1753805936015523 valid 0.243418375418211\n",
      "EPOCH 53:\n",
      "LOSS train 0.17748290894115057 valid 0.23514176791326868\n",
      "EPOCH 54:\n",
      "LOSS train 0.1700140384253725 valid 0.2319441724102944\n",
      "EPOCH 55:\n",
      "LOSS train 0.17315436389093727 valid 0.22889485732755727\n",
      "EPOCH 56:\n",
      "LOSS train 0.1696525482890017 valid 0.22826315422490653\n",
      "EPOCH 57:\n",
      "LOSS train 0.16960345798851192 valid 0.23431500588129792\n",
      "EPOCH 58:\n",
      "LOSS train 0.16517667785605455 valid 0.2248479149485421\n",
      "EPOCH 59:\n",
      "LOSS train 0.16272804312708825 valid 0.22829161553333202\n",
      "EPOCH 60:\n",
      "LOSS train 0.1600137409486425 valid 0.22481649634816372\n",
      "EPOCH 61:\n",
      "LOSS train 0.15879546291020094 valid 0.22986388983877581\n",
      "EPOCH 62:\n",
      "LOSS train 0.1573630603397544 valid 0.23135242480525953\n",
      "EPOCH 63:\n",
      "LOSS train 0.15275600126937847 valid 0.22157636697455826\n",
      "EPOCH 64:\n",
      "LOSS train 0.15112945459553012 valid 0.22071149834017786\n",
      "EPOCH 65:\n",
      "LOSS train 0.15270923251494092 valid 0.22359937303958255\n",
      "EPOCH 66:\n",
      "LOSS train 0.1482909335942846 valid 0.22798202533481848\n",
      "EPOCH 67:\n",
      "LOSS train 0.14851768699313145 valid 0.22647103605171046\n",
      "EPOCH 68:\n",
      "LOSS train 0.1496580049324772 valid 0.21886218826208884\n",
      "EPOCH 69:\n",
      "LOSS train 0.1439365142350242 valid 0.22872219439078537\n",
      "EPOCH 70:\n",
      "LOSS train 0.14497907572998853 valid 0.2164237140548519\n",
      "EPOCH 71:\n",
      "LOSS train 0.1437176062046349 valid 0.22338017647982472\n",
      "EPOCH 72:\n",
      "LOSS train 0.1355172407784612 valid 0.2145114369535198\n",
      "EPOCH 73:\n",
      "LOSS train 0.1392601053108795 valid 0.2188760966786908\n",
      "EPOCH 74:\n",
      "LOSS train 0.1396235585734779 valid 0.23039820148713058\n",
      "EPOCH 75:\n",
      "LOSS train 0.13477342093978387 valid 0.21338826566675884\n",
      "Average time taken per epoch is 69.21331377599999s\n"
     ]
    }
   ],
   "source": [
    "train(75,50,0,'finalmodel',10)"
   ]
  },
  {
   "cell_type": "code",
   "execution_count": 20,
   "id": "ebe99ef1-64e9-41ae-a3fe-ac89b3c32471",
   "metadata": {},
   "outputs": [
    {
     "name": "stdout",
     "output_type": "stream",
     "text": [
      "EPOCH 76:\n",
      "LOSS train 0.13428126191919462 valid 0.22334949125070125\n",
      "EPOCH 77:\n",
      "LOSS train 0.1325804835136741 valid 0.21746236010868517\n",
      "EPOCH 78:\n",
      "LOSS train 0.1293237548179907 valid 0.21840984343240658\n",
      "EPOCH 79:\n",
      "LOSS train 0.12864787207646494 valid 0.21463559099680019\n",
      "EPOCH 80:\n",
      "LOSS train 0.13038201406686578 valid 0.2208203960261825\n",
      "EPOCH 81:\n",
      "LOSS train 0.12903293339433836 valid 0.22080236091278493\n",
      "EPOCH 82:\n",
      "LOSS train 0.12964104047385785 valid 0.22252882631599075\n",
      "EPOCH 83:\n",
      "LOSS train 0.12572059669308452 valid 0.22042685384965605\n",
      "EPOCH 84:\n",
      "LOSS train 0.1213154908747472 valid 0.23572370798016587\n",
      "EPOCH 85:\n",
      "LOSS train 0.12662270518723265 valid 0.2172468727351063\n",
      "Average time taken per epoch is 70.88935907000004s\n"
     ]
    }
   ],
   "source": [
    "# Run another 10 epochs to see results\n",
    "train(10,50,75,'finalmodel',10)"
   ]
  },
  {
   "cell_type": "code",
   "execution_count": 21,
   "id": "0e8328e6-c01d-4177-ba40-dc9f06cde664",
   "metadata": {},
   "outputs": [
    {
     "name": "stdout",
     "output_type": "stream",
     "text": [
      "EPOCH 76:\n",
      "LOSS train 0.12689872474947198 valid 0.21235818152005473\n",
      "EPOCH 77:\n",
      "LOSS train 0.12964374058815759 valid 0.21381686332946023\n",
      "EPOCH 78:\n",
      "LOSS train 0.1300007206854585 valid 0.21204141070807558\n",
      "EPOCH 79:\n",
      "LOSS train 0.12715526632610663 valid 0.21365343525798786\n",
      "EPOCH 80:\n",
      "LOSS train 0.126066409825677 valid 0.2118403399751211\n",
      "EPOCH 81:\n",
      "LOSS train 0.12428464481691141 valid 0.214892825189357\n",
      "EPOCH 82:\n",
      "LOSS train 0.12518375067398696 valid 0.21103591552107698\n",
      "EPOCH 83:\n",
      "LOSS train 0.12449970492770157 valid 0.21073284458058575\n",
      "EPOCH 84:\n",
      "LOSS train 0.1269807388957351 valid 0.2100775209772918\n",
      "EPOCH 85:\n",
      "LOSS train 0.12738710942273326 valid 0.21238866809289902\n",
      "Average time taken per epoch is 73.46449511s\n"
     ]
    }
   ],
   "source": [
    "# Epoch 75 has lowest validation loss so continue from there with lower lr and momentum\n",
    "swin_model.load_state_dict(torch.load('finalmodel\\model_20250222_192234_75', weights_only = True))\n",
    "optimizer = torch.optim.SGD(swin_model.parameters(), lr=0.0008, momentum = 0.4)\n",
    "train(10,50,75,'finalmodel',10)"
   ]
  },
  {
   "cell_type": "code",
   "execution_count": 22,
   "id": "83d054e7-d169-4b37-8a48-e4fece989e8c",
   "metadata": {},
   "outputs": [
    {
     "name": "stdout",
     "output_type": "stream",
     "text": [
      "EPOCH 86:\n",
      "LOSS train 0.1257564882458035 valid 0.21137572122582546\n",
      "EPOCH 87:\n",
      "LOSS train 0.12660341860279617 valid 0.2110931584870236\n",
      "EPOCH 88:\n",
      "LOSS train 0.1240571275344583 valid 0.21247096922403821\n",
      "EPOCH 89:\n",
      "LOSS train 0.1237922689684992 valid 0.21012785548292515\n",
      "EPOCH 90:\n",
      "LOSS train 0.12635042352907164 valid 0.2110995243355218\n",
      "EPOCH 91:\n",
      "LOSS train 0.12650962952179326 valid 0.2069510916610145\n",
      "EPOCH 92:\n",
      "LOSS train 0.12564620612335176 valid 0.20956924473608118\n",
      "EPOCH 93:\n",
      "LOSS train 0.12527784655609495 valid 0.21015708233850697\n",
      "EPOCH 94:\n",
      "LOSS train 0.12266297681332343 valid 0.21195605765872946\n",
      "EPOCH 95:\n",
      "LOSS train 0.1237290831495103 valid 0.20908217989684394\n",
      "Average time taken per epoch is 72.76081088000001s\n"
     ]
    }
   ],
   "source": [
    "# Run another 10 epochs with same settings\n",
    "train(10,50,85,'finalmodel',10)"
   ]
  },
  {
   "cell_type": "code",
   "execution_count": 23,
   "id": "c4862eac-e979-4c13-9a03-0cf7b19bba49",
   "metadata": {},
   "outputs": [
    {
     "name": "stdout",
     "output_type": "stream",
     "text": [
      "EPOCH 92:\n",
      "LOSS train 0.12177798058616436 valid 0.21005653895230758\n",
      "EPOCH 93:\n",
      "LOSS train 0.12225227492845965 valid 0.21112188121252176\n",
      "EPOCH 94:\n",
      "LOSS train 0.12328396879596694 valid 0.20972251613986576\n",
      "EPOCH 95:\n",
      "LOSS train 0.1237388349662484 valid 0.21043359405464596\n",
      "EPOCH 96:\n",
      "LOSS train 0.12445266862486151 valid 0.21035036189843798\n",
      "EPOCH 97:\n",
      "LOSS train 0.1244147598495676 valid 0.2111690689990711\n",
      "EPOCH 98:\n",
      "LOSS train 0.12340053845188113 valid 0.2107173830865779\n",
      "EPOCH 99:\n",
      "LOSS train 0.12230413363286406 valid 0.211038783710036\n",
      "EPOCH 100:\n",
      "LOSS train 0.11898544694865543 valid 0.21020858390774164\n",
      "Average time taken per epoch is 70.43590075555565s\n"
     ]
    }
   ],
   "source": [
    "# Continue from epoch 91\n",
    "swin_model.load_state_dict(torch.load('finalmodel\\model_20250222_211532_91', weights_only = True))\n",
    "optimizer = torch.optim.SGD(swin_model.parameters(), lr=0.0004, momentum = 0.1)\n",
    "train(9,50,91,'finalmodel',9)"
   ]
  },
  {
   "cell_type": "code",
   "execution_count": 27,
   "id": "ff0a4fef-6b85-49ee-86aa-ebaa7a6eebeb",
   "metadata": {},
   "outputs": [
    {
     "name": "stdout",
     "output_type": "stream",
     "text": [
      "EPOCH 92:\n",
      "LOSS train 0.12165545089935746 valid 0.20989099085434443\n",
      "EPOCH 93:\n",
      "LOSS train 0.12424832803248084 valid 0.21047276625823644\n",
      "EPOCH 94:\n",
      "LOSS train 0.1239845143794801 valid 0.20992867788299918\n",
      "EPOCH 95:\n",
      "LOSS train 0.12296401545617756 valid 0.2098694044010093\n",
      "EPOCH 96:\n",
      "LOSS train 0.12320876541832847 valid 0.21060868245290798\n",
      "EPOCH 97:\n",
      "LOSS train 0.12088567289278229 valid 0.2098168595564655\n",
      "EPOCH 98:\n",
      "LOSS train 0.1220386895946185 valid 0.21136812385844272\n",
      "EPOCH 99:\n",
      "LOSS train 0.12061398425482373 valid 0.21173184525428546\n",
      "EPOCH 100:\n",
      "LOSS train 0.12273840095644326 valid 0.21007908748773238\n",
      "Average time taken per epoch is 72.07202336666685s\n"
     ]
    }
   ],
   "source": [
    "#Try again with lower lr and momentum\n",
    "swin_model.load_state_dict(torch.load('finalmodel\\model_20250222_211532_91', weights_only = True))\n",
    "optimizer = torch.optim.SGD(swin_model.parameters(), lr=0.0003, momentum = 0)\n",
    "train(9,50,91,'finalmodel',9)"
   ]
  },
  {
   "cell_type": "markdown",
   "id": "4e77adee-efc7-4d8c-8c40-68ecd19c2110",
   "metadata": {},
   "source": [
    "## Evaluation"
   ]
  },
  {
   "cell_type": "code",
   "execution_count": null,
   "id": "cc5be5cb-5ba5-4a37-84ba-10c2de147534",
   "metadata": {},
   "outputs": [],
   "source": [
    "# Lowest validation loss is 0.2069510916610145 at epoch 91"
   ]
  },
  {
   "cell_type": "code",
   "execution_count": 17,
   "id": "8c14e663-8902-476c-891a-70bddad2430d",
   "metadata": {},
   "outputs": [
    {
     "data": {
      "text/plain": [
       "<All keys matched successfully>"
      ]
     },
     "execution_count": 17,
     "metadata": {},
     "output_type": "execute_result"
    }
   ],
   "source": [
    "swin_model.load_state_dict(torch.load('finalmodel\\model_20250222_211532_91', weights_only = True))"
   ]
  },
  {
   "cell_type": "code",
   "execution_count": 18,
   "id": "d2619715-3bf2-450a-8c14-4e7faa2ac5c2",
   "metadata": {},
   "outputs": [],
   "source": [
    "def evaluate(batch_size):\n",
    "    start = time.perf_counter()\n",
    "    total = 0\n",
    "    correct = 0\n",
    "    batches = math.floor(len(weeds.test)/batch_size)\n",
    "    current_index = 0\n",
    "    \n",
    "    for i in range(batches):\n",
    "        inputs,labels = get_batch(weeds.test, current_index, batch_size)\n",
    "        current_index += batch_size\n",
    "        prediction = torch.argmax(swin_model(inputs), dim = 1)\n",
    "        correct += sum(prediction == labels).cpu().item()\n",
    "        total += batch_size\n",
    "\n",
    "    remainder = len(weeds.test)%batch_size\n",
    "    if remainder != 0:\n",
    "        inputs,labels = get_batch(weeds.test, current_index, remainder)\n",
    "        prediction = torch.argmax(swin_model(inputs), dim = 1)\n",
    "        correct += sum(prediction == labels).cpu().item()\n",
    "        total += remainder\n",
    "\n",
    "    accuracy = 100*correct/total\n",
    "    print ('Accuracy is {}%'.format(accuracy))\n",
    "    end = time.perf_counter()\n",
    "    print('Time taken is {}'.format(end-start))\n",
    "    \n",
    "    return "
   ]
  },
  {
   "cell_type": "code",
   "execution_count": 21,
   "id": "191d8094-cd71-4366-b506-ab81b73c70df",
   "metadata": {},
   "outputs": [
    {
     "name": "stdout",
     "output_type": "stream",
     "text": [
      "Accuracy is 92.57567104511708%\n",
      "Time taken is 5.432378800003789\n"
     ]
    }
   ],
   "source": [
    "with torch.no_grad():\n",
    "    swin_model.eval()\n",
    "    evaluate(20)"
   ]
  },
  {
   "cell_type": "code",
   "execution_count": null,
   "id": "19dd7973-1d8d-40b2-a5f5-a581786f5d89",
   "metadata": {},
   "outputs": [],
   "source": [
    "# Accuracy is 92.58%"
   ]
  },
  {
   "cell_type": "code",
   "execution_count": 36,
   "id": "49e72d4c-a750-4ca6-81ce-8784c082b6d9",
   "metadata": {},
   "outputs": [],
   "source": [
    "torch.save(swin_model, 'trained_model\\weedsv1.pt')"
   ]
  },
  {
   "cell_type": "code",
   "execution_count": null,
   "id": "a0ca8e83-1b07-4ff9-81ae-40871c5fa2bc",
   "metadata": {},
   "outputs": [],
   "source": []
  }
 ],
 "metadata": {
  "kernelspec": {
   "display_name": "Python 3 (ipykernel)",
   "language": "python",
   "name": "python3"
  },
  "language_info": {
   "codemirror_mode": {
    "name": "ipython",
    "version": 3
   },
   "file_extension": ".py",
   "mimetype": "text/x-python",
   "name": "python",
   "nbconvert_exporter": "python",
   "pygments_lexer": "ipython3",
   "version": "3.10.6"
  }
 },
 "nbformat": 4,
 "nbformat_minor": 5
}
